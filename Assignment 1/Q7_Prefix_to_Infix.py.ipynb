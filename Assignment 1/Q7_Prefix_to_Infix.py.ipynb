{
 "cells": [
  {
   "cell_type": "code",
   "execution_count": null,
   "id": "471b6e57",
   "metadata": {},
   "outputs": [],
   "source": [
    "class stack:\n",
    "    def __init__(self):\n",
    "        self.limit=100\n",
    "        self.elements=[]\n",
    "        self.count=0\n",
    "    def push(self,data):\n",
    "        if self.IsFull():\n",
    "            print(\"Stack is Full\")\n",
    "        else:\n",
    "            self.elements.append(data)\n",
    "            self.count +=1\n",
    "    def pop(self):\n",
    "        if self.IsEmpty():\n",
    "            print(\"Stack is Empty\")\n",
    "        else:\n",
    "            poped=self.elements.pop()\n",
    "            self.count -=1\n",
    "        return poped\n",
    "    def size(self):\n",
    "        return self.count\n",
    "    def seek(self):\n",
    "        return self.elements[-1]\n",
    "    def IsEmpty(self):\n",
    "        if len(self.elements)==0:\n",
    "            return True\n",
    "        else:\n",
    "            return False\n",
    "    def IsFull(self):\n",
    "        if self.count==self.limit:\n",
    "            return True\n",
    "        else:\n",
    "            return False\n",
    "    def print_stack(self):\n",
    "        print(self.elements)"
   ]
  },
  {
   "cell_type": "code",
   "execution_count": null,
   "id": "8bd29fc7",
   "metadata": {},
   "outputs": [],
   "source": [
    "class conversion:\n",
    "    def isOperator(self, text) :\n",
    "        if (text == '+'\n",
    "            or text == '-'\n",
    "            or text == '*'\n",
    "            or text == '/'\n",
    "            or text == '^'\n",
    "            or text == '%'): \n",
    "            return True\n",
    "\n",
    "        return False\n",
    "    def isOperands(self, text) :\n",
    "        if ((text >= '0'\n",
    "            and text <= '9') \n",
    "            or(text >= 'a'\n",
    "            and text <= 'z') or(text >= 'A'\n",
    "            and text <= 'Z')) :\n",
    "            return True\n",
    "        return False\n",
    "    def prefixToinfix(self, prefix):\n",
    "        size = len(prefix)\n",
    "        s = stack()\n",
    "        auxiliary = \"\"\n",
    "        op1 = \"\"\n",
    "        op2 = \"\"\n",
    "        isValid = True\n",
    "        i = size - 1\n",
    "        while (i >= 0) :\n",
    "            if (self.isOperator(prefix[i])) :\n",
    "                if (s.size() > 1) :\n",
    "                    op1 = s.pop()\n",
    "                    op2 = s.pop()\n",
    "                    auxiliary = \"(\" + op1 + str(prefix[i]) + op2 + \")\"\n",
    "                    s.push(auxiliary)\n",
    "                else :\n",
    "                    isValid = False\n",
    "            elif (self.isOperands(prefix[i])) :\n",
    "                auxiliary = str(prefix[i])\n",
    "                s.push(auxiliary)\n",
    "            else :\n",
    "                isValid = False\n",
    "            i -= 1\n",
    "        if (isValid == False) :\n",
    "            print(\"Invalid Prefix : \", prefix)\n",
    "        else :\n",
    "            \n",
    "            print(\" Prefix : \", prefix)\n",
    "            print(\" Infix  : \", s.pop())"
   ]
  },
  {
   "cell_type": "code",
   "execution_count": null,
   "id": "c9e99935",
   "metadata": {},
   "outputs": [],
   "source": [
    "str=conversion()"
   ]
  },
  {
   "cell_type": "code",
   "execution_count": null,
   "id": "4d6f933d",
   "metadata": {},
   "outputs": [],
   "source": [
    "prefix = \"+*ab^cd\"\n",
    "str.prefixToinfix(prefix)"
   ]
  },
  {
   "cell_type": "code",
   "execution_count": null,
   "id": "526a65c6",
   "metadata": {},
   "outputs": [],
   "source": []
  }
 ],
 "metadata": {
  "kernelspec": {
   "display_name": "Python 3 (ipykernel)",
   "language": "python",
   "name": "python3"
  },
  "language_info": {
   "codemirror_mode": {
    "name": "ipython",
    "version": 3
   },
   "file_extension": ".py",
   "mimetype": "text/x-python",
   "name": "python",
   "nbconvert_exporter": "python",
   "pygments_lexer": "ipython3",
   "version": "3.8.0"
  }
 },
 "nbformat": 4,
 "nbformat_minor": 5
}
