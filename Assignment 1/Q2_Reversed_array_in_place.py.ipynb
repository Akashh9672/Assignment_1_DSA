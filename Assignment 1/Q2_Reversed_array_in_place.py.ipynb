{
 "cells": [
  {
   "cell_type": "code",
   "execution_count": 1,
   "id": "5653832e",
   "metadata": {},
   "outputs": [
    {
     "name": "stdout",
     "output_type": "stream",
     "text": [
      "Enter array numbers:2 3 4 5 6 7\n",
      "Your Array is : ['2', '3', '4', '5', '6', '7']\n",
      "Reversed Array: ['7', '6', '5', '4', '3', '2']\n"
     ]
    }
   ],
   "source": [
    "arr=input(\"Enter array numbers:\").split()\n",
    "print(\"Your Array is :\",arr)\n",
    "reverse=arr[::-1]\n",
    "print(\"Reversed Array:\",reverse)\n"
   ]
  },
  {
   "cell_type": "code",
   "execution_count": null,
   "id": "fce95598",
   "metadata": {},
   "outputs": [],
   "source": []
  }
 ],
 "metadata": {
  "kernelspec": {
   "display_name": "Python 3 (ipykernel)",
   "language": "python",
   "name": "python3"
  },
  "language_info": {
   "codemirror_mode": {
    "name": "ipython",
    "version": 3
   },
   "file_extension": ".py",
   "mimetype": "text/x-python",
   "name": "python",
   "nbconvert_exporter": "python",
   "pygments_lexer": "ipython3",
   "version": "3.8.0"
  }
 },
 "nbformat": 4,
 "nbformat_minor": 5
}
