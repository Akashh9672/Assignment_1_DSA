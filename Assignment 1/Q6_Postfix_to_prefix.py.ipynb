{
 "cells": [
  {
   "cell_type": "code",
   "execution_count": 10,
   "id": "e8079bc1",
   "metadata": {},
   "outputs": [],
   "source": [
    "class stack:\n",
    "    def __init__(self):\n",
    "        self.limit=100\n",
    "        self.elements=[]\n",
    "        self.count=0\n",
    "    def push(self,data):\n",
    "        if self.IsFull():\n",
    "            print(\"Stack is Full\")\n",
    "        else:\n",
    "            self.elements.append(data)\n",
    "            self.count +=1\n",
    "    def pop(self):\n",
    "        if self.IsEmpty():\n",
    "            print(\"Stack is Empty\")\n",
    "        else:\n",
    "            poped=self.elements.pop()\n",
    "            self.count -=1\n",
    "        return poped\n",
    "    def size(self):\n",
    "        return self.count\n",
    "    def seek(self):\n",
    "        return self.elements[-1]\n",
    "    def IsEmpty(self):\n",
    "        if len(self.elements)==0:\n",
    "            return True\n",
    "        else:\n",
    "            return False\n",
    "    def IsFull(self):\n",
    "        if len(self.elements)==self.limit:\n",
    "            return True\n",
    "        else:\n",
    "            return False\n",
    "    def print_stack(self):\n",
    "        print(self.elements)"
   ]
  },
  {
   "cell_type": "code",
   "execution_count": 7,
   "id": "62a78db2",
   "metadata": {},
   "outputs": [],
   "source": [
    "class conversion:\n",
    "    def isOperator(self, text) :\n",
    "        if (text == '+'\n",
    "            or text == '-'\n",
    "            or text == '*'\n",
    "            or text == '/'\n",
    "            or text == '^'\n",
    "            or text == '%'): \n",
    "            return True\n",
    "\n",
    "        return False\n",
    "    def isOperands(self, text) :\n",
    "        if ((text >= '0'\n",
    "             and text <= '9') or(text >= 'a'\n",
    "                                 and text <= 'z') or(text >= 'A'\n",
    "                                                     and text <= 'Z')) :\n",
    "            return True\n",
    "    def postfixToPrefix(self, postfix) :\n",
    "        size = len(postfix)\n",
    "        s = stack()\n",
    "        auxiliary = \"\"\n",
    "        isValid = True\n",
    "        i = 0\n",
    "        while (i < size and isValid) :\n",
    "\n",
    "            if (self.isOperator(postfix[i])) :\n",
    "                if (s.size() > 1) :\n",
    "                    auxiliary = s.pop()\n",
    "                    auxiliary = s.pop() + auxiliary\n",
    "                    auxiliary = postfix[i] + auxiliary\n",
    "                    s.push(auxiliary)\n",
    "                else:\n",
    "                    isValid = False\n",
    "            elif (self.isOperands(postfix[i])) :\n",
    "                auxiliary = postfix[i]\n",
    "                s.push(auxiliary)\n",
    "            else:\n",
    "                    isValid = False\n",
    "            i += 1\n",
    "        if (isValid == False) :\n",
    "\n",
    "            print(\"Invalid postfix : \", postfix)\n",
    "        else:\n",
    "            print(\" Postfix : \", postfix)\n",
    "            print(\" Prefix  : \", s.pop())"
   ]
  },
  {
   "cell_type": "code",
   "execution_count": 11,
   "id": "4976281a",
   "metadata": {},
   "outputs": [
    {
     "name": "stdout",
     "output_type": "stream",
     "text": [
      " Postfix :  ab+c*ef+g/+\n",
      " Prefix  :  +*+abc/+efg\n",
      " Postfix :  abc*de-/+\n",
      " Prefix  :  +a/*bc-de\n"
     ]
    }
   ],
   "source": [
    "task = conversion()\n",
    "postfix = \"ab+c*ef+g/+\"\n",
    "task.postfixToPrefix(postfix)\n",
    "postfix = \"abc*de-/+\"\n",
    "task.postfixToPrefix(postfix)"
   ]
  },
  {
   "cell_type": "code",
   "execution_count": null,
   "id": "32729fcf",
   "metadata": {},
   "outputs": [],
   "source": []
  }
 ],
 "metadata": {
  "kernelspec": {
   "display_name": "Python 3 (ipykernel)",
   "language": "python",
   "name": "python3"
  },
  "language_info": {
   "codemirror_mode": {
    "name": "ipython",
    "version": 3
   },
   "file_extension": ".py",
   "mimetype": "text/x-python",
   "name": "python",
   "nbconvert_exporter": "python",
   "pygments_lexer": "ipython3",
   "version": "3.8.0"
  }
 },
 "nbformat": 4,
 "nbformat_minor": 5
}
