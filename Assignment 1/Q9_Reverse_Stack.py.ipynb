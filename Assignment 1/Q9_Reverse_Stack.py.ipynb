{
 "cells": [
  {
   "cell_type": "code",
   "execution_count": 13,
   "id": "fc11b2ff",
   "metadata": {},
   "outputs": [],
   "source": [
    "class stack:\n",
    "    def __init__(self):\n",
    "        self.limit=100\n",
    "        self.elements=[]\n",
    "    def push(self,data):\n",
    "        if self.IsFull():\n",
    "            print(\"Stack is Full\")\n",
    "        else:\n",
    "            self.elements.append(data)\n",
    "    def pop(self):\n",
    "        if self.IsEmpty():\n",
    "            print(\"Stack is Empty\")\n",
    "        else:\n",
    "            poped=self.elements.pop()\n",
    "        return poped\n",
    "    def seek(self):\n",
    "        return self.elements[-1]\n",
    "    def IsEmpty(self):\n",
    "        if len(self.elements)==0:\n",
    "            return True\n",
    "        else:\n",
    "            return False\n",
    "    def IsFull(self):\n",
    "        if len(self.elements)==self.limit:\n",
    "            return True\n",
    "        else:\n",
    "            return False\n",
    "    def print_Stack(self):\n",
    "        print(self.elements)"
   ]
  },
  {
   "cell_type": "code",
   "execution_count": 15,
   "id": "13d31d7e",
   "metadata": {},
   "outputs": [
    {
     "name": "stdout",
     "output_type": "stream",
     "text": [
      "Enter the numbers for stacks:2 4 5 6 7 7\n",
      "Your stack\n",
      "['2', '4', '5', '6', '7', '7']\n",
      "Reversed Stack\n",
      "['7', '7', '6', '5', '4', '2']\n"
     ]
    }
   ],
   "source": [
    "list=input(\"Enter the numbers for stacks:\").split()\n",
    "stack1=stack()\n",
    "stack2=stack()\n",
    "for i in list:\n",
    "    stack1.push(i)\n",
    "print(\"Your stack\")\n",
    "stack1.print_Stack()\n",
    "for i in range(len(list)):\n",
    "    poped=stack1.pop()\n",
    "    stack2.push(poped)\n",
    "print(\"Reversed Stack\")\n",
    "stack2.print_Stack()"
   ]
  },
  {
   "cell_type": "code",
   "execution_count": null,
   "id": "33f2b7b1",
   "metadata": {},
   "outputs": [],
   "source": []
  },
  {
   "cell_type": "code",
   "execution_count": null,
   "id": "9dfcebc2",
   "metadata": {},
   "outputs": [],
   "source": []
  }
 ],
 "metadata": {
  "kernelspec": {
   "display_name": "Python 3 (ipykernel)",
   "language": "python",
   "name": "python3"
  },
  "language_info": {
   "codemirror_mode": {
    "name": "ipython",
    "version": 3
   },
   "file_extension": ".py",
   "mimetype": "text/x-python",
   "name": "python",
   "nbconvert_exporter": "python",
   "pygments_lexer": "ipython3",
   "version": "3.8.0"
  }
 },
 "nbformat": 4,
 "nbformat_minor": 5
}
