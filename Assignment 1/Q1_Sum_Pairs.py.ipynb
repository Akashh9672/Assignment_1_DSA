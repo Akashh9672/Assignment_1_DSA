{
 "cells": [
  {
   "cell_type": "code",
   "execution_count": null,
   "id": "32e0eab3",
   "metadata": {},
   "outputs": [],
   "source": [
    "size=int(input(\"Enter array size:\"))\n",
    "arr=[]\n",
    "for i range(size):\n",
    "    data=int(input(\"Enter Array number:\"))\n",
    "    arr.append(data)\n",
    "print(\"Your Array is:\",arr)\n",
    "list=[(i,j) for i in arr for j in arr]\n",
    "num=int(input(\"Enter sum number :\"))\n",
    "pairs=[]\n",
    "for pair in list:\n",
    "    if (pair[0] + pair[1])==num:\n",
    "        pairs.append(pair)\n",
    "print(\"our list of pairs whose integers sum is \")"
   ]
  }
 ],
 "metadata": {
  "kernelspec": {
   "display_name": "Python 3 (ipykernel)",
   "language": "python",
   "name": "python3"
  },
  "language_info": {
   "codemirror_mode": {
    "name": "ipython",
    "version": 3
   },
   "file_extension": ".py",
   "mimetype": "text/x-python",
   "name": "python",
   "nbconvert_exporter": "python",
   "pygments_lexer": "ipython3",
   "version": "3.8.0"
  }
 },
 "nbformat": 4,
 "nbformat_minor": 5
}
