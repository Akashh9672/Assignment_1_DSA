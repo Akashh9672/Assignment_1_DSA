{
 "cells": [
  {
   "cell_type": "code",
   "execution_count": 10,
   "id": "60595dc7",
   "metadata": {},
   "outputs": [],
   "source": [
    "class stack:\n",
    "    def __init__(self):\n",
    "        self.limit=100\n",
    "        self.elements=[]\n",
    "    def push(self,data):\n",
    "        if self.IsFull():\n",
    "            print(\"Stack is Full\")\n",
    "        else:\n",
    "            self.elements.append(data)\n",
    "    def pop(self):\n",
    "        if self.IsEmpty():\n",
    "            print(\"Stack is Empty\")\n",
    "        else:\n",
    "            poped=self.elements.pop()\n",
    "        return poped\n",
    "    def seek(self):\n",
    "        return self.elements[-1]\n",
    "    def IsEmpty(self):\n",
    "        if len(self.elements)==0:\n",
    "            return True\n",
    "        else:\n",
    "            return False\n",
    "    def IsFull(self):\n",
    "        if len(self.elements)==self.limit:\n",
    "            return True\n",
    "        else:\n",
    "            return False\n",
    "    def print_stack(self):\n",
    "        print(self.elements)"
   ]
  },
  {
   "cell_type": "code",
   "execution_count": 15,
   "id": "8d2c84f6",
   "metadata": {},
   "outputs": [
    {
     "name": "stdout",
     "output_type": "stream",
     "text": [
      "Enter your Expression:(){\n",
      "All Brackets are Not Closed 1\n"
     ]
    }
   ],
   "source": [
    "exp=input(\"Enter your Expression:\")\n",
    "opening=\"({[\"\n",
    "closing=\")}]\"\n",
    "pairs={')':'(','}':'{',']':'['}\n",
    "stack1=stack()\n",
    "count=0\n",
    "for c in exp:\n",
    "    if c in opening:\n",
    "        stack1.push(c)\n",
    "        count +=1\n",
    "\n",
    "for c in exp:\n",
    "    if c in closing:\n",
    "        temp=stack1.pop()\n",
    "        \n",
    "        count -=1\n",
    "if count==0:\n",
    "    print(\"All Brackets are Closed\")\n",
    "else:\n",
    "    print(\"All Brackets are Not Closed\")\n",
    "        "
   ]
  },
  {
   "cell_type": "code",
   "execution_count": null,
   "id": "2ca5746e",
   "metadata": {},
   "outputs": [],
   "source": []
  }
 ],
 "metadata": {
  "kernelspec": {
   "display_name": "Python 3 (ipykernel)",
   "language": "python",
   "name": "python3"
  },
  "language_info": {
   "codemirror_mode": {
    "name": "ipython",
    "version": 3
   },
   "file_extension": ".py",
   "mimetype": "text/x-python",
   "name": "python",
   "nbconvert_exporter": "python",
   "pygments_lexer": "ipython3",
   "version": "3.8.0"
  }
 },
 "nbformat": 4,
 "nbformat_minor": 5
}
