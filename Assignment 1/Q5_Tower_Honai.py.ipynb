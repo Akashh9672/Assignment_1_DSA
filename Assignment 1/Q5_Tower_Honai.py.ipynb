{
 "cells": [
  {
   "cell_type": "code",
   "execution_count": 2,
   "id": "b24e7421",
   "metadata": {},
   "outputs": [
    {
     "name": "stdout",
     "output_type": "stream",
     "text": [
      "org->dst\n",
      "org->aux\n",
      "dst->aux\n",
      "org->dst\n",
      "aux->org\n",
      "aux->dst\n",
      "org->dst\n"
     ]
    }
   ],
   "source": [
    "class Tower:\n",
    "    def __init__(self):\n",
    "        self.counter = 0\n",
    "\n",
    "    def hanoi(self, n, org, aux, dst):\n",
    "        if n == 1: \n",
    "            self.counter += 1\n",
    "            print('{0}->{1}'.format(org, dst))\n",
    "        else:\n",
    "            self.hanoi(n-1, org, dst, aux)\n",
    "            self.hanoi(1, org, aux, dst)\n",
    "            self.hanoi(n-1, aux, org, dst)\n",
    "\n",
    "tower = Tower()\n",
    "tower.hanoi(3, \"org\", \"aux\", \"dst\")"
   ]
  },
  {
   "cell_type": "code",
   "execution_count": null,
   "id": "340aae27",
   "metadata": {},
   "outputs": [],
   "source": []
  }
 ],
 "metadata": {
  "kernelspec": {
   "display_name": "Python 3 (ipykernel)",
   "language": "python",
   "name": "python3"
  },
  "language_info": {
   "codemirror_mode": {
    "name": "ipython",
    "version": 3
   },
   "file_extension": ".py",
   "mimetype": "text/x-python",
   "name": "python",
   "nbconvert_exporter": "python",
   "pygments_lexer": "ipython3",
   "version": "3.8.0"
  }
 },
 "nbformat": 4,
 "nbformat_minor": 5
}
