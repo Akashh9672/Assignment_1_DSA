{
 "cells": [
  {
   "cell_type": "code",
   "execution_count": 3,
   "id": "be95c50c",
   "metadata": {},
   "outputs": [],
   "source": [
    "class MinStack(object):\n",
    "   \n",
    "    def __init__(self):\n",
    "        self.min=float('inf')\n",
    "        self.elements=[]\n",
    "    def push(self,data):\n",
    "        if data<=self.min:\n",
    "            self.elements.append(self.min)\n",
    "            self.min=data\n",
    "        else:\n",
    "            self.elements.append(data)\n",
    "    def pop(self):\n",
    "        top=self.elements[-1]\n",
    "        self.elements.pop()\n",
    "        if self.min==top:\n",
    "            self.min=self.elements[-1]\n",
    "            self.elements.pop()\n",
    "    def top(self):\n",
    "        return self.elements[-1]\n",
    "    def getMin(self):\n",
    "        return self.min"
   ]
  },
  {
   "cell_type": "code",
   "execution_count": 6,
   "id": "ac12f032",
   "metadata": {},
   "outputs": [],
   "source": [
    "m = MinStack()\n",
    "m.push(2)\n",
    "m.push(5)\n",
    "m.push(7)\n",
    "\n"
   ]
  },
  {
   "cell_type": "code",
   "execution_count": 7,
   "id": "3d3cc6d8",
   "metadata": {},
   "outputs": [
    {
     "data": {
      "text/plain": [
       "2"
      ]
     },
     "execution_count": 7,
     "metadata": {},
     "output_type": "execute_result"
    }
   ],
   "source": [
    "m.getMin()"
   ]
  },
  {
   "cell_type": "code",
   "execution_count": null,
   "id": "9ad3362e",
   "metadata": {},
   "outputs": [],
   "source": []
  }
 ],
 "metadata": {
  "kernelspec": {
   "display_name": "Python 3 (ipykernel)",
   "language": "python",
   "name": "python3"
  },
  "language_info": {
   "codemirror_mode": {
    "name": "ipython",
    "version": 3
   },
   "file_extension": ".py",
   "mimetype": "text/x-python",
   "name": "python",
   "nbconvert_exporter": "python",
   "pygments_lexer": "ipython3",
   "version": "3.8.0"
  }
 },
 "nbformat": 4,
 "nbformat_minor": 5
}
