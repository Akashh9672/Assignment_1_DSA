{
 "cells": [
  {
   "cell_type": "code",
   "execution_count": 1,
   "id": "8ecd599c",
   "metadata": {},
   "outputs": [],
   "source": [
    "def areRotations(string1, string2):\n",
    "    size1 = len(string1)\n",
    "    size2 = len(string2)\n",
    "    temp = ''\n",
    "    if size1 != size2:\n",
    "        return 0\n",
    "    temp = string1 + string1\n",
    "    if (temp.count(string2)> 0):\n",
    "        return True\n",
    "    else:\n",
    "        return False"
   ]
  },
  {
   "cell_type": "code",
   "execution_count": 5,
   "id": "2922a5b0",
   "metadata": {},
   "outputs": [
    {
     "name": "stdout",
     "output_type": "stream",
     "text": [
      "Enter the First string:ABCD\n",
      "Enter the Second string:CDAB\n",
      "Given two strings are rotations of each other\n"
     ]
    }
   ],
   "source": [
    "string1=input(\"Enter the First string:\")\n",
    "string2=input(\"Enter the Second string:\")\n",
    "if areRotations(string1,string2):\n",
    "    print(\"Given two strings are rotations of each other\")\n",
    "else:\n",
    "    print(\"Given two strings are NOT rotations of each other\")"
   ]
  },
  {
   "cell_type": "code",
   "execution_count": null,
   "id": "ce73620f",
   "metadata": {},
   "outputs": [],
   "source": []
  }
 ],
 "metadata": {
  "kernelspec": {
   "display_name": "Python 3 (ipykernel)",
   "language": "python",
   "name": "python3"
  },
  "language_info": {
   "codemirror_mode": {
    "name": "ipython",
    "version": 3
   },
   "file_extension": ".py",
   "mimetype": "text/x-python",
   "name": "python",
   "nbconvert_exporter": "python",
   "pygments_lexer": "ipython3",
   "version": "3.8.0"
  }
 },
 "nbformat": 4,
 "nbformat_minor": 5
}
