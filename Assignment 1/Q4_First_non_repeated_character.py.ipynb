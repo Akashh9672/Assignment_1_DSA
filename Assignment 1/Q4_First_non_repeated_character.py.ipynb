{
 "cells": [
  {
   "cell_type": "code",
   "execution_count": 4,
   "id": "14af87eb",
   "metadata": {},
   "outputs": [
    {
     "name": "stdout",
     "output_type": "stream",
     "text": [
      "Enter your string:aacd\n",
      "all Characters are Repeated\n",
      "First Non Repeated Character is: c\n"
     ]
    }
   ],
   "source": [
    "string=input(\"Enter your string:\")\n",
    "characters=[]\n",
    "counter={}\n",
    "for i in string:\n",
    "    if i in counter:\n",
    "        counter[i] +=1\n",
    "    else:\n",
    "        counter[i]=1\n",
    "        characters.append(i)\n",
    "for i in counter:\n",
    "    if counter[i]==1:\n",
    "        print(\"First Non Repeated Character is:\",i)\n",
    "        break\n",
    "    else:\n",
    "        print(\"all Characters are Repeated\")"
   ]
  },
  {
   "cell_type": "code",
   "execution_count": null,
   "id": "b3d59ccf",
   "metadata": {},
   "outputs": [],
   "source": []
  }
 ],
 "metadata": {
  "kernelspec": {
   "display_name": "Python 3 (ipykernel)",
   "language": "python",
   "name": "python3"
  },
  "language_info": {
   "codemirror_mode": {
    "name": "ipython",
    "version": 3
   },
   "file_extension": ".py",
   "mimetype": "text/x-python",
   "name": "python",
   "nbconvert_exporter": "python",
   "pygments_lexer": "ipython3",
   "version": "3.8.0"
  }
 },
 "nbformat": 4,
 "nbformat_minor": 5
}
